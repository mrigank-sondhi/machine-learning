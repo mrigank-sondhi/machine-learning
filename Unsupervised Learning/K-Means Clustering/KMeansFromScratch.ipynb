{
 "cells": [
  {
   "cell_type": "code",
   "execution_count": 1,
   "id": "18d92516",
   "metadata": {},
   "outputs": [],
   "source": [
    "import numpy as np\n",
    "import matplotlib.pyplot as plt"
   ]
  },
  {
   "cell_type": "code",
   "execution_count": 2,
   "id": "447a650c",
   "metadata": {},
   "outputs": [
    {
     "data": {
      "image/png": "[encoded data removed]",
      "text/plain": [
       "<Figure size 432x288 with 1 Axes>"
      ]
     },
     "metadata": {
      "needs_background": "light"
     },
     "output_type": "display_data"
    }
   ],
   "source": [
    "X = np.array([[7, 1], [3, 6], [2.5, 9], [9, 0.1], [1, 8], [8, 2.5], [2, 10], [1.5, 7], [6, 4], [10, 3]])\n",
    "plt.scatter(X[:, 0], X[:, 1])\n",
    "plt.show()"
   ]
  },
  {
   "cell_type": "code",
   "execution_count": 3,
   "id": "1d45a1d4",
   "metadata": {},
   "outputs": [],
   "source": [
    "class KMeans:\n",
    "    '''This class implements the K-Means Clustering Algorithm.'''\n",
    "    def __init__(self, n_clusters = 8, max_iter = 300):\n",
    "        self.n_clusters = n_clusters\n",
    "        self.max_iter = max_iter\n",
    "    \n",
    "    def fit(self, X):\n",
    "        #initialize k means randomly\n",
    "        self.means = []\n",
    "        for i in range(self.n_clusters):\n",
    "            self.means.append(X[i])\n",
    "        \n",
    "        #for max_iter times\n",
    "        #1. assign data points to the k clusters\n",
    "        #2. calculate the k new clusters\n",
    "        for i in range(self.max_iter):\n",
    "            clusters = []\n",
    "            for j in range(self.n_clusters):\n",
    "                clusters.append([])\n",
    "            \n",
    "            #1. assign data points to the k clusters\n",
    "            self.labels_ = []\n",
    "            for p in X:\n",
    "                distances = np.array([((p - centroid)**2).sum() for centroid in self.means])\n",
    "                nearest_cluster = np.argmin(distances)\n",
    "                clusters[nearest_cluster].append(p)\n",
    "                self.labels_.append(nearest_cluster)\n",
    "                \n",
    "            #2. calculate the k new clusters\n",
    "            flag = False\n",
    "            for j in range(self.n_clusters):\n",
    "                new_mean = np.average(clusters[j], axis = 0) \n",
    "                if(not(np.array_equal(self.means[j], new_mean))):\n",
    "                    flag = True\n",
    "                    self.means[j] = new_mean\n",
    "            if(not flag):\n",
    "                break\n",
    "        self.cluster_centers_ = np.array(self.means)\n",
    "         \n",
    "    def predict(self, X):\n",
    "        predictions = []\n",
    "        for p in X:\n",
    "            distances = np.array([((p - centroid)**2).sum() for centroid in self.means])\n",
    "            nearest_cluster = np.argmin(distances)\n",
    "            predictions.append(nearest_cluster)\n",
    "        return predictions"
   ]
  },
  {
   "cell_type": "code",
   "execution_count": 4,
   "id": "8476db13",
   "metadata": {},
   "outputs": [
    {
     "name": "stdout",
     "output_type": "stream",
     "text": [
      "Final Centroids: \n",
      " [[8.   2.12]\n",
      " [2.   8.  ]]\n",
      "Final Labels:  [0, 1, 1, 0, 1, 0, 1, 1, 0, 0]\n"
     ]
    }
   ],
   "source": [
    "kmeans = KMeans(n_clusters = 2)\n",
    "kmeans.fit(X)\n",
    "centroids = kmeans.cluster_centers_\n",
    "labels = kmeans.labels_\n",
    "print('Final Centroids: \\n', centroids)\n",
    "print('Final Labels: ', labels)"
   ]
  },
  {
   "cell_type": "code",
   "execution_count": 5,
   "id": "447fa8f6",
   "metadata": {},
   "outputs": [
    {
     "name": "stdout",
     "output_type": "stream",
     "text": [
      "[0, 1, 1, 0, 1, 0, 1, 1, 0, 0]\n"
     ]
    }
   ],
   "source": [
    "predictions = kmeans.predict(X)\n",
    "print(predictions)"
   ]
  },
  {
   "cell_type": "code",
   "execution_count": 6,
   "id": "b37253bb",
   "metadata": {},
   "outputs": [
    {
     "data": {
      "image/png": "[encoded data removed]",
      "text/plain": [
       "<Figure size 432x288 with 1 Axes>"
      ]
     },
     "metadata": {
      "needs_background": "light"
     },
     "output_type": "display_data"
    }
   ],
   "source": [
    "plt.scatter(X[:, 0], X[:, 1], c = labels)\n",
    "plt.scatter(centroids[:, 0], centroids[:, 1], c = 'r')\n",
    "plt.show()"
   ]
  }
 ],
 "metadata": {
  "kernelspec": {
   "display_name": "Python 3",
   "language": "python",
   "name": "python3"
  },
  "language_info": {
   "codemirror_mode": {
    "name": "ipython",
    "version": 3
   },
   "file_extension": ".py",
   "mimetype": "text/x-python",
   "name": "python",
   "nbconvert_exporter": "python",
   "pygments_lexer": "ipython3",
   "version": "3.8.8"
  }
 },
 "nbformat": 4,
 "nbformat_minor": 5
}
