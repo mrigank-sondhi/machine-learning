{
 "cells": [
  {
   "cell_type": "code",
   "execution_count": 1,
   "id": "5677fafa",
   "metadata": {},
   "outputs": [],
   "source": [
    "from sklearn import datasets\n",
    "from sklearn.model_selection import train_test_split\n",
    "from sklearn.preprocessing import StandardScaler\n",
    "import matplotlib.pyplot as plt\n",
    "import numpy as np\n",
    "from collections import Counter"
   ]
  },
  {
   "cell_type": "code",
   "execution_count": 2,
   "id": "aa6ab515",
   "metadata": {},
   "outputs": [],
   "source": [
    "class KNN:\n",
    "    '''This class implements the K-Nearest Neighbours algorithm.'''\n",
    "    def __init__(self, n_neighbors = 5):\n",
    "        self.k = n_neighbors\n",
    "        \n",
    "    def fit(self, X_train, Y_train):\n",
    "        self.X = X_train\n",
    "        self.Y = Y_train\n",
    "        \n",
    "    def predict_for_single_point(self, x):\n",
    "        distances = []\n",
    "        for i in range(len(self.X)):\n",
    "            distance = (((self.X[i] - x)**2).sum())**(1/2)\n",
    "            distances.append([distance, i])\n",
    "        distances = sorted(distances)\n",
    "        targets = []\n",
    "        for i in range(self.k):\n",
    "            targets.append(Y_train[distances[i][1]])\n",
    "        result = Counter(targets).most_common(1)[0][0]\n",
    "        return result \n",
    "            \n",
    "    def predict(self, X_test):\n",
    "        Y_preds = []\n",
    "        for x in X_test:\n",
    "            Y_preds.append(self.predict_for_single_point(x))\n",
    "        return Y_preds\n",
    "    \n",
    "    def score(self, X_test, Y_test):\n",
    "        Y_preds = self.predict(X_test)\n",
    "        return ((Y_test == Y_preds).sum())/len(Y_test)"
   ]
  },
  {
   "cell_type": "code",
   "execution_count": 3,
   "id": "77b46ffc",
   "metadata": {},
   "outputs": [],
   "source": [
    "data = datasets.load_breast_cancer()\n",
    "X_train, X_test, Y_train, Y_test = train_test_split(data.data, data.target, test_size = 0.2,\n",
    "                                                    random_state = 0)\n",
    "scaler = StandardScaler()\n",
    "X_train_scaled = scaler.fit_transform(X_train)"
   ]
  },
  {
   "cell_type": "code",
   "execution_count": 4,
   "id": "6b7d64ab",
   "metadata": {},
   "outputs": [
    {
     "data": {
      "text/plain": [
       "0.9649122807017544"
      ]
     },
     "execution_count": 4,
     "metadata": {},
     "output_type": "execute_result"
    }
   ],
   "source": [
    "classifier = KNN(n_neighbors = 8)\n",
    "classifier.fit(X_train_scaled, Y_train)\n",
    "\n",
    "X_test_scaled = scaler.transform(X_test) \n",
    "classifier.score(X_test_scaled, Y_test)"
   ]
  }
 ],
 "metadata": {
  "kernelspec": {
   "display_name": "Python 3",
   "language": "python",
   "name": "python3"
  },
  "language_info": {
   "codemirror_mode": {
    "name": "ipython",
    "version": 3
   },
   "file_extension": ".py",
   "mimetype": "text/x-python",
   "name": "python",
   "nbconvert_exporter": "python",
   "pygments_lexer": "ipython3",
   "version": "3.8.8"
  }
 },
 "nbformat": 4,
 "nbformat_minor": 5
}
