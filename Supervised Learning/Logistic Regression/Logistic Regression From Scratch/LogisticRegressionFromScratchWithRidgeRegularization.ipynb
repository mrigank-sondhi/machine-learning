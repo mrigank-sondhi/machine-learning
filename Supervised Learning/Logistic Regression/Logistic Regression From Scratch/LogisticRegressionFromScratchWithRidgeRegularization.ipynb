{
 "cells": [
  {
   "cell_type": "code",
   "execution_count": 1,
   "id": "65fee77f",
   "metadata": {},
   "outputs": [],
   "source": [
    "from sklearn import datasets\n",
    "import numpy as np\n",
    "import pandas as pd\n",
    "import matplotlib.pyplot as plt\n",
    "from sklearn.preprocessing import StandardScaler"
   ]
  },
  {
   "cell_type": "code",
   "execution_count": 2,
   "id": "aabe1c11",
   "metadata": {},
   "outputs": [],
   "source": [
    "def step_gradient(X, Y, learning_rate, reg, m):    \n",
    "    M = len(X)\n",
    "    \n",
    "    slopes_m = []\n",
    "    for i in range(len(m)):\n",
    "        m_i = (1/M) * ( (2 * reg * m[i]) - (((Y - (1/(1 + np.exp(-((m * X).sum(axis = 1)))))) * X[:, i]).sum()) )\n",
    "        slopes_m.append(m_i)\n",
    "    slopes_m = np.array(slopes_m)\n",
    "    \n",
    "    new_m = m - learning_rate * slopes_m\n",
    "    \n",
    "    return new_m"
   ]
  },
  {
   "cell_type": "code",
   "execution_count": 3,
   "id": "51fe1bd6",
   "metadata": {},
   "outputs": [],
   "source": [
    "def gradient_descent(X, Y, learning_rate, reg, num_iterations):\n",
    "    m = np.zeros(len(X[0]))\n",
    "    total_cost = []\n",
    "    for i in range(num_iterations):\n",
    "        m = step_gradient(X, Y, learning_rate, reg, m)\n",
    "        curr_cost = cost(X, Y, reg, m)\n",
    "        total_cost.append(curr_cost)\n",
    "    plt.plot(np.array(total_cost))\n",
    "    plt.show()\n",
    "    return m"
   ]
  },
  {
   "cell_type": "code",
   "execution_count": 4,
   "id": "a70c41d5",
   "metadata": {},
   "outputs": [],
   "source": [
    "def cost(X, Y, reg, m):    \n",
    "    M = len(X)\n",
    "    \n",
    "    h_x = (1/(1 + np.exp(-((m * X).sum(axis = 1)))))\n",
    "    cost = (1/M) * ( ((((-Y) * np.log(h_x)) - (1 - Y) * (np.log(1 - h_x))).sum()) + (reg * (m**2).sum()) )\n",
    "    \n",
    "    return cost"
   ]
  },
  {
   "cell_type": "code",
   "execution_count": 5,
   "id": "6d7ed638",
   "metadata": {},
   "outputs": [],
   "source": [
    "def predict(X_test, m):\n",
    "    preds = 1/(1 + np.exp(-((m * X_test).sum(axis = 1))))\n",
    "    for i in range(len(preds)):\n",
    "        if (preds[i] >= 0.5):\n",
    "            preds[i] = 1\n",
    "        else:\n",
    "            preds[i] = 0\n",
    "    return preds"
   ]
  },
  {
   "cell_type": "code",
   "execution_count": 6,
   "id": "2c57e3c7",
   "metadata": {},
   "outputs": [],
   "source": [
    "def accuracy(Y_test, preds):\n",
    "    return (((Y_test == preds).sum())/len(Y_test))*100"
   ]
  },
  {
   "cell_type": "code",
   "execution_count": 7,
   "id": "fb630a16",
   "metadata": {},
   "outputs": [],
   "source": [
    "def run():\n",
    "    data = datasets.load_breast_cancer()   \n",
    "    X = data.data\n",
    "    Y = data.target\n",
    "    \n",
    "    scaler = StandardScaler()\n",
    "    scaler.fit(X)\n",
    "    X = scaler.transform(X)\n",
    "    X = np.append(X, np.ones(len(X)).reshape(-1, 1), axis = 1)\n",
    "    \n",
    "    m = gradient_descent(X, Y, learning_rate = 1, reg = 50, num_iterations = 100) \n",
    "    \n",
    "    preds = predict(X, m)\n",
    "    score = accuracy(Y, preds)\n",
    "    print('Accuracy: ', score)"
   ]
  },
  {
   "cell_type": "code",
   "execution_count": 8,
   "id": "c23aecf2",
   "metadata": {},
   "outputs": [
    {
     "data": {
      "image/png": "[encoded data removed]",
      "text/plain": [
       "<Figure size 432x288 with 1 Axes>"
      ]
     },
     "metadata": {
      "needs_background": "light"
     },
     "output_type": "display_data"
    },
    {
     "name": "stdout",
     "output_type": "stream",
     "text": [
      "Accuracy:  97.01230228471002\n"
     ]
    }
   ],
   "source": [
    "run()"
   ]
  }
 ],
 "metadata": {
  "kernelspec": {
   "display_name": "Python 3",
   "language": "python",
   "name": "python3"
  },
  "language_info": {
   "codemirror_mode": {
    "name": "ipython",
    "version": 3
   },
   "file_extension": ".py",
   "mimetype": "text/x-python",
   "name": "python",
   "nbconvert_exporter": "python",
   "pygments_lexer": "ipython3",
   "version": "3.8.8"
  }
 },
 "nbformat": 4,
 "nbformat_minor": 5
}
