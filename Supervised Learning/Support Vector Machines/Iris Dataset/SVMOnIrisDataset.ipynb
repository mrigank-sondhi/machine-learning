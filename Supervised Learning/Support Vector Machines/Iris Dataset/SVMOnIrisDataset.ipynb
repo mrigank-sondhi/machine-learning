{
  "cells": [
    {
      "cell_type": "code",
      "execution_count": null,
      "metadata": {
        "id": "ykSnyVF4oUb2"
      },
      "outputs": [],
      "source": [
        "from sklearn import svm, datasets\n",
        "import numpy as np\n",
        "from sklearn.model_selection import train_test_split\n",
        "import matplotlib.pyplot as plt"
      ]
    },
    {
      "cell_type": "code",
      "execution_count": null,
      "metadata": {
        "id": "Nh9v4e-BoUb7"
      },
      "outputs": [],
      "source": [
        "iris = datasets.load_iris()\n",
        "x = iris.data[:, 0:2]\n",
        "y = iris.target"
      ]
    },
    {
      "cell_type": "code",
      "execution_count": null,
      "metadata": {
        "id": "WmWu7uoLoUb8"
      },
      "outputs": [],
      "source": [
        "x_train, x_test, y_train, y_test = train_test_split(x, y, random_state = 1)"
      ]
    },
    {
      "cell_type": "code",
      "execution_count": null,
      "metadata": {
        "id": "RcYjo5KmoUb9",
        "outputId": "1bd76150-9d4d-4fe6-b564-2abe774f085f"
      },
      "outputs": [
        {
          "data": {
            "text/plain": [
              "SVC(kernel='poly')"
            ]
          },
          "execution_count": 65,
          "metadata": {},
          "output_type": "execute_result"
        }
      ],
      "source": [
        "clf = svm.SVC(kernel = 'poly')\n",
        "clf.fit(x_train, y_train)"
      ]
    },
    {
      "cell_type": "code",
      "execution_count": null,
      "metadata": {
        "id": "99cyQU9ZoUb-",
        "outputId": "002963ce-4e5f-4e82-b890-d60e3a381f87"
      },
      "outputs": [
        {
          "data": {
            "text/plain": [
              "0.8157894736842105"
            ]
          },
          "execution_count": 66,
          "metadata": {},
          "output_type": "execute_result"
        }
      ],
      "source": [
        "clf.score(x_test, y_test)"
      ]
    },
    {
      "cell_type": "code",
      "execution_count": null,
      "metadata": {
        "id": "sKgLHHvNoUb_"
      },
      "outputs": [],
      "source": [
        "def makegrid(x1, x2, h = 0.02):\n",
        "    x1_min, x1_max = x1.min() - 1, x1.max() + 1\n",
        "    x2_min, x2_max = x2.min() - 1, x2.max() + 1\n",
        "    a = np.arange(x1_min, x1_max, h)\n",
        "    b = np.arange(x2_min, x2_max, h)\n",
        "    xx, yy = np.meshgrid(a, b)\n",
        "    return xx, yy"
      ]
    },
    {
      "cell_type": "code",
      "execution_count": null,
      "metadata": {
        "id": "QYbv6AEpoUcA",
        "outputId": "26bc86cb-ccc0-46a7-abb0-558a5d6d10eb"
      },
      "outputs": [
        {
          "data": {
            "image/png": "[encoded data removed]",
            "text/plain": [
              "<Figure size 432x288 with 1 Axes>"
            ]
          },
          "metadata": {
            "needs_background": "light"
          },
          "output_type": "display_data"
        }
      ],
      "source": [
        "xx, yy = makegrid(x[:, 0], x[:, 1])\n",
        "predictions = clf.predict(np.c_[xx.ravel(), yy.ravel()])\n",
        "plt.scatter(xx.ravel(), yy.ravel(),c = predictions)\n",
        "plt.show()"
      ]
    }
  ],
  "metadata": {
    "kernelspec": {
      "display_name": "Python 3",
      "language": "python",
      "name": "python3"
    },
    "language_info": {
      "codemirror_mode": {
        "name": "ipython",
        "version": 3
      },
      "file_extension": ".py",
      "mimetype": "text/x-python",
      "name": "python",
      "nbconvert_exporter": "python",
      "pygments_lexer": "ipython3",
      "version": "3.8.8"
    },
    "colab": {
      "name": "SVMOnIrisDataset.ipynb",
      "provenance": []
    }
  },
  "nbformat": 4,
  "nbformat_minor": 0
}