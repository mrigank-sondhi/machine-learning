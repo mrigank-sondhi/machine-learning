{
 "cells": [
  {
   "cell_type": "code",
   "execution_count": 1,
   "id": "481b43f5",
   "metadata": {},
   "outputs": [],
   "source": [
    "import numpy as np\n",
    "import pandas as pd\n",
    "from sklearn.metrics import classification_report, confusion_matrix\n",
    "from sklearn import datasets\n",
    "from sklearn import model_selection"
   ]
  },
  {
   "cell_type": "code",
   "execution_count": 2,
   "id": "d1db359d",
   "metadata": {},
   "outputs": [],
   "source": [
    "def fit(X_train, Y_train):\n",
    "    result = {}\n",
    "    classes = set(Y_train)\n",
    "    result['total_data_length'] = len(Y_train)\n",
    "    for current_class in classes:\n",
    "        result[current_class] = {}\n",
    "        current_class_data = X_train[Y_train == current_class]\n",
    "        result[current_class]['total_class_data_length'] = len(current_class_data)\n",
    "        for i in range(X_train.shape[1]):\n",
    "            result[current_class][i] = {}\n",
    "            feature_values = set(X_train[:, i])\n",
    "            for value in feature_values:\n",
    "                result[current_class][i][value] = ((current_class_data[:, i] == value).sum())\n",
    "    \n",
    "    return result"
   ]
  },
  {
   "cell_type": "code",
   "execution_count": 3,
   "id": "b6c4fa1a",
   "metadata": {},
   "outputs": [],
   "source": [
    "def probability(dictionary, x, current_class):\n",
    "    result = np.log(dictionary[current_class]['total_class_data_length']) - np.log(dictionary['total_data_length'])\n",
    "    \n",
    "    for i in range(x.shape[0]):\n",
    "        numerator = dictionary[current_class][i][x[i]] + 1\n",
    "        denominator = dictionary[current_class]['total_class_data_length'] + len(dictionary[current_class][i].keys())\n",
    "        result += (np.log(numerator) - np.log(denominator))\n",
    "        \n",
    "    return result"
   ]
  },
  {
   "cell_type": "code",
   "execution_count": 4,
   "id": "ec5e1e77",
   "metadata": {},
   "outputs": [],
   "source": [
    "def predict_single_point(dictionary, x):\n",
    "    classes = list(dictionary.keys())[1:]\n",
    "    best_probability = -1000\n",
    "    best_class = -1\n",
    "    \n",
    "    for current_class in classes:\n",
    "        current_class_probability = probability(dictionary, x, current_class)\n",
    "        if(current_class_probability > best_probability):\n",
    "            best_probability = current_class_probability\n",
    "            best_class = current_class \n",
    "    \n",
    "    return best_class"
   ]
  },
  {
   "cell_type": "code",
   "execution_count": 5,
   "id": "a6802758",
   "metadata": {},
   "outputs": [],
   "source": [
    "def predict(dictionary, X_test):\n",
    "    Y_preds = []\n",
    "    for x in X_test:\n",
    "        Y_preds.append(predict_single_point(dictionary, x))\n",
    "    return Y_preds"
   ]
  },
  {
   "cell_type": "markdown",
   "id": "3dad32de",
   "metadata": {},
   "source": [
    "# 1. Testing on Play Tennis Dataset "
   ]
  },
  {
   "cell_type": "code",
   "execution_count": 6,
   "id": "51c15115",
   "metadata": {},
   "outputs": [],
   "source": [
    "df = pd.read_csv('datasets/play_tennis.csv')"
   ]
  },
  {
   "cell_type": "code",
   "execution_count": 7,
   "id": "744d70e1",
   "metadata": {},
   "outputs": [],
   "source": [
    "df.drop('day', axis = 1, inplace = True)"
   ]
  },
  {
   "cell_type": "code",
   "execution_count": 8,
   "id": "a976fe30",
   "metadata": {},
   "outputs": [],
   "source": [
    "X_train = np.array(df.iloc[:, :-1])\n",
    "Y_train = np.array(df.iloc[:, -1])"
   ]
  },
  {
   "cell_type": "code",
   "execution_count": 9,
   "id": "2ea8c985",
   "metadata": {},
   "outputs": [],
   "source": [
    "dictionary = fit(X_train, Y_train)\n",
    "Y_preds = predict(dictionary, X_train)"
   ]
  },
  {
   "cell_type": "code",
   "execution_count": 10,
   "id": "07a7805f",
   "metadata": {},
   "outputs": [
    {
     "name": "stdout",
     "output_type": "stream",
     "text": [
      "              precision    recall  f1-score   support\n",
      "\n",
      "          No       1.00      0.80      0.89         5\n",
      "         Yes       0.90      1.00      0.95         9\n",
      "\n",
      "    accuracy                           0.93        14\n",
      "   macro avg       0.95      0.90      0.92        14\n",
      "weighted avg       0.94      0.93      0.93        14\n",
      "\n",
      "[[4 1]\n",
      " [0 9]]\n"
     ]
    }
   ],
   "source": [
    "print(classification_report(Y_train, Y_preds))\n",
    "print(confusion_matrix(Y_train, Y_preds))"
   ]
  },
  {
   "cell_type": "markdown",
   "id": "d5ea444b",
   "metadata": {},
   "source": [
    "# 2. Testing on Iris Dataset"
   ]
  },
  {
   "cell_type": "code",
   "execution_count": 11,
   "id": "8da13130",
   "metadata": {},
   "outputs": [],
   "source": [
    "def convert_to_labelled(column):\n",
    "    l2 = column.mean()\n",
    "    l1 = 0.5*l2\n",
    "    l3 = 1.5*l2\n",
    "    \n",
    "    for i in range(len(column)):\n",
    "        if(column[i] < l1):\n",
    "            column[i] = 0\n",
    "        elif(column[i] < l2):\n",
    "            column[i] = 1\n",
    "        elif(column[i] < l3):\n",
    "            column[i] = 2\n",
    "        else:\n",
    "            column[i] = 3\n",
    "            \n",
    "    return column"
   ]
  },
  {
   "cell_type": "code",
   "execution_count": 12,
   "id": "bee0a3ed",
   "metadata": {},
   "outputs": [],
   "source": [
    "iris = datasets.load_iris()\n",
    "X = iris.data\n",
    "Y = iris.target"
   ]
  },
  {
   "cell_type": "code",
   "execution_count": 13,
   "id": "c95ed1c7",
   "metadata": {},
   "outputs": [],
   "source": [
    "for i in range(X.shape[1]):\n",
    "    X[:, i] = convert_to_labelled(X[:, i])"
   ]
  },
  {
   "cell_type": "code",
   "execution_count": 14,
   "id": "2251db04",
   "metadata": {},
   "outputs": [],
   "source": [
    "X_train, X_test, Y_train, Y_test = model_selection.train_test_split(X, Y, test_size = 0.20, random_state = 1)"
   ]
  },
  {
   "cell_type": "code",
   "execution_count": 15,
   "id": "653f402d",
   "metadata": {},
   "outputs": [],
   "source": [
    "dictionary = fit(X_train, Y_train)\n",
    "Y_preds = predict(dictionary, X_test)"
   ]
  },
  {
   "cell_type": "code",
   "execution_count": 16,
   "id": "d03c6964",
   "metadata": {},
   "outputs": [
    {
     "name": "stdout",
     "output_type": "stream",
     "text": [
      "              precision    recall  f1-score   support\n",
      "\n",
      "           0       1.00      1.00      1.00        11\n",
      "           1       1.00      1.00      1.00        13\n",
      "           2       1.00      1.00      1.00         6\n",
      "\n",
      "    accuracy                           1.00        30\n",
      "   macro avg       1.00      1.00      1.00        30\n",
      "weighted avg       1.00      1.00      1.00        30\n",
      "\n",
      "[[11  0  0]\n",
      " [ 0 13  0]\n",
      " [ 0  0  6]]\n"
     ]
    }
   ],
   "source": [
    "print(classification_report(Y_test, Y_preds))\n",
    "print(confusion_matrix(Y_test, Y_preds))"
   ]
  }
 ],
 "metadata": {
  "kernelspec": {
   "display_name": "Python 3",
   "language": "python",
   "name": "python3"
  },
  "language_info": {
   "codemirror_mode": {
    "name": "ipython",
    "version": 3
   },
   "file_extension": ".py",
   "mimetype": "text/x-python",
   "name": "python",
   "nbconvert_exporter": "python",
   "pygments_lexer": "ipython3",
   "version": "3.8.8"
  }
 },
 "nbformat": 4,
 "nbformat_minor": 5
}
