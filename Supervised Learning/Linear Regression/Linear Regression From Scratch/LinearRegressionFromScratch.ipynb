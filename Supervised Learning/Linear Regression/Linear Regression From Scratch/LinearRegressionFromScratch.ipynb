{
 "cells": [
  {
   "cell_type": "code",
   "execution_count": 1,
   "id": "d96ccfde",
   "metadata": {},
   "outputs": [],
   "source": [
    "import numpy as np"
   ]
  },
  {
   "cell_type": "code",
   "execution_count": 2,
   "id": "d4eb274c",
   "metadata": {},
   "outputs": [],
   "source": [
    "data = np.loadtxt('data.csv', delimiter = ',')"
   ]
  },
  {
   "cell_type": "code",
   "execution_count": 3,
   "id": "443f1a43",
   "metadata": {},
   "outputs": [],
   "source": [
    "X = data[:, 0]\n",
    "Y = data[:, 1]"
   ]
  },
  {
   "cell_type": "code",
   "execution_count": 4,
   "id": "15aa7983",
   "metadata": {},
   "outputs": [],
   "source": [
    "from sklearn import model_selection"
   ]
  },
  {
   "cell_type": "code",
   "execution_count": 5,
   "id": "3dd55519",
   "metadata": {},
   "outputs": [],
   "source": [
    "X_train, X_test, Y_train, Y_test = model_selection.train_test_split(X, Y, random_state = 10) "
   ]
  },
  {
   "cell_type": "code",
   "execution_count": 6,
   "id": "0b0c6394",
   "metadata": {},
   "outputs": [],
   "source": [
    "from sklearn.linear_model import LinearRegression"
   ]
  },
  {
   "cell_type": "code",
   "execution_count": 7,
   "id": "bbbd1f7c",
   "metadata": {},
   "outputs": [
    {
     "data": {
      "text/plain": [
       "LinearRegression()"
      ]
     },
     "execution_count": 7,
     "metadata": {},
     "output_type": "execute_result"
    }
   ],
   "source": [
    "alg1 = LinearRegression()\n",
    "alg1.fit(X_train.reshape(-1,1), Y_train)"
   ]
  },
  {
   "cell_type": "code",
   "execution_count": 8,
   "id": "b3d667fb",
   "metadata": {},
   "outputs": [
    {
     "name": "stdout",
     "output_type": "stream",
     "text": [
      "m: [1.31131611]\n",
      "c: 8.2200837471824\n"
     ]
    }
   ],
   "source": [
    "print('m:', alg1.coef_)\n",
    "print('c:', alg1.intercept_)"
   ]
  },
  {
   "cell_type": "code",
   "execution_count": 9,
   "id": "f1abb475",
   "metadata": {},
   "outputs": [
    {
     "data": {
      "text/plain": [
       "0.6340208659520189"
      ]
     },
     "execution_count": 9,
     "metadata": {},
     "output_type": "execute_result"
    }
   ],
   "source": [
    "alg1.score(X_test.reshape(-1,1), Y_test)"
   ]
  },
  {
   "cell_type": "code",
   "execution_count": 10,
   "id": "7b443d46",
   "metadata": {},
   "outputs": [],
   "source": [
    "def fit(X_train, Y_train):\n",
    "    m = (((X_train*Y_train).mean()) - (X_train.mean() * Y_train.mean()))/(((X_train*X_train).mean())-(X_train.mean()**2))\n",
    "    c = Y_train.mean() - (m * X_train.mean())\n",
    "    return (m,c)\n",
    "\n",
    "def predict(X_test, m, c):\n",
    "    Y_predicted = (m*X_test) + c\n",
    "    return Y_predicted\n",
    "\n",
    "def coefficient_of_determination(Y_predicted, Y_test):\n",
    "    u = ((Y_test - Y_predicted)**2).sum()\n",
    "    v = ((Y_test - Y_test.mean())**2).sum()\n",
    "    cd = 1 - (u/v)\n",
    "    return cd\n",
    "\n",
    "def cost(X_train, Y_train, m, c):\n",
    "    cost = ((Y_train - (m*X_train + c))**2).sum()\n",
    "    return cost"
   ]
  },
  {
   "cell_type": "code",
   "execution_count": 11,
   "id": "c6c57726",
   "metadata": {},
   "outputs": [
    {
     "name": "stdout",
     "output_type": "stream",
     "text": [
      "m: 1.3113161126897894\n",
      "c: 8.220083747181349\n",
      "Coefficient of determination: 0.6340208659520195\n",
      "Cost: 7695.488748540013\n"
     ]
    }
   ],
   "source": [
    "m, c = fit(X_train, Y_train)\n",
    "Y_predicted = predict(X_test, m, c)\n",
    "cd = coefficient_of_determination(Y_predicted, Y_test)\n",
    "cost = cost(X_train, Y_train, m, c)\n",
    "print('m:', m)\n",
    "print('c:', c)\n",
    "print('Coefficient of determination:', cd)\n",
    "print('Cost:', cost)"
   ]
  }
 ],
 "metadata": {
  "kernelspec": {
   "display_name": "Python 3",
   "language": "python",
   "name": "python3"
  },
  "language_info": {
   "codemirror_mode": {
    "name": "ipython",
    "version": 3
   },
   "file_extension": ".py",
   "mimetype": "text/x-python",
   "name": "python",
   "nbconvert_exporter": "python",
   "pygments_lexer": "ipython3",
   "version": "3.8.8"
  }
 },
 "nbformat": 4,
 "nbformat_minor": 5
}
