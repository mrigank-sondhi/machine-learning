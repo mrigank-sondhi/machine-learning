{
  "cells": [
    {
      "cell_type": "code",
      "execution_count": null,
      "id": "de0bdc60",
      "metadata": {
        "id": "de0bdc60"
      },
      "outputs": [],
      "source": [
        "import numpy as np\n",
        "from sklearn.linear_model import LinearRegression"
      ]
    },
    {
      "cell_type": "code",
      "execution_count": null,
      "id": "30b67e21",
      "metadata": {
        "id": "30b67e21"
      },
      "outputs": [],
      "source": [
        "train_data = np.genfromtxt('training_diabetes_x_y_train.csv', delimiter = ',')\n",
        "X_train = train_data[:, 0:10]\n",
        "Y_train = train_data[:, 10]"
      ]
    },
    {
      "cell_type": "code",
      "execution_count": null,
      "id": "518c7d7f",
      "metadata": {
        "id": "518c7d7f"
      },
      "outputs": [],
      "source": [
        "test_data = np.genfromtxt('test_diabetes_x_test.csv', delimiter = ',')\n",
        "X_test = test_data[:, 0:10]"
      ]
    },
    {
      "cell_type": "code",
      "execution_count": null,
      "id": "d041f084",
      "metadata": {
        "id": "d041f084"
      },
      "outputs": [],
      "source": [
        "algorithm = LinearRegression()\n",
        "algorithm.fit(X_train, Y_train)\n",
        "Y_predicted = algorithm.predict(X_test)"
      ]
    },
    {
      "cell_type": "code",
      "execution_count": null,
      "id": "c2d3ca2d",
      "metadata": {
        "id": "c2d3ca2d"
      },
      "outputs": [],
      "source": [
        "for i in range(len(Y_predicted)):\n",
        "    Y_predicted[i] = format(Y_predicted[i], '.5f')\n",
        "np.savetxt('submission.csv', Y_predicted, fmt = '%.5f')"
      ]
    }
  ],
  "metadata": {
    "kernelspec": {
      "display_name": "Python 3",
      "language": "python",
      "name": "python3"
    },
    "language_info": {
      "codemirror_mode": {
        "name": "ipython",
        "version": 3
      },
      "file_extension": ".py",
      "mimetype": "text/x-python",
      "name": "python",
      "nbconvert_exporter": "python",
      "pygments_lexer": "ipython3",
      "version": "3.8.8"
    },
    "colab": {
      "name": "LinearRegressiononDiabetes.ipynb",
      "provenance": []
    }
  },
  "nbformat": 4,
  "nbformat_minor": 5
}